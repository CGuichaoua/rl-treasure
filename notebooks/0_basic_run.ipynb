{
 "cells": [
  {
   "cell_type": "markdown",
   "metadata": {},
   "source": [
    "This is a first attempt at using the environment and agent together. The agent is a simple tabular q-learner and the environment is static."
   ]
  },
  {
   "cell_type": "code",
   "execution_count": 4,
   "metadata": {},
   "outputs": [],
   "source": [
    "import matplotlib.pyplot as plt\n",
    "from treasure_hunt.environment import FixedTreasureHuntEnv\n",
    "from treasure_hunt.agent import TabularQLearner\n",
    "from gymnasium.wrappers import TimeLimit\n",
    "\n",
    "from treasure_hunt.utils import RLRunner"
   ]
  },
  {
   "cell_type": "code",
   "execution_count": null,
   "metadata": {},
   "outputs": [],
   "source": [
    "# Initialize environment and agent\n",
    "env = TimeLimit(FixedTreasureHuntEnv(), 500)\n",
    "agent = TabularQLearner(env)"
   ]
  },
  {
   "cell_type": "code",
   "execution_count": null,
   "metadata": {},
   "outputs": [],
   "source": [
    "# Setup the runner\n",
    "runner = RLRunner(agen, env, total_epochs=20)"
   ]
  },
  {
   "cell_type": "code",
   "execution_count": 2,
   "metadata": {},
   "outputs": [
    {
     "name": "stdout",
     "output_type": "stream",
     "text": [
      "Episode 1/100 - Training complete\n",
      "Episode 1/100 - Mean reward: -500.0\n",
      "Episode 2/100 - Training complete\n",
      "Episode 2/100 - Mean reward: -500.0\n",
      "Episode 3/100 - Training complete\n",
      "Episode 3/100 - Mean reward: -5000.0\n",
      "Episode 4/100 - Training complete\n",
      "Episode 4/100 - Mean reward: -500.0\n",
      "Episode 5/100 - Training complete\n",
      "Episode 5/100 - Mean reward: 181.0\n",
      "Episode 6/100 - Training complete\n",
      "Episode 6/100 - Mean reward: -500.0\n",
      "Episode 7/100 - Training complete\n",
      "Episode 7/100 - Mean reward: -4991.0\n",
      "Episode 8/100 - Training complete\n",
      "Episode 8/100 - Mean reward: -500.0\n",
      "Episode 9/100 - Training complete\n",
      "Episode 9/100 - Mean reward: -500.0\n",
      "Episode 10/100 - Training complete\n",
      "Episode 10/100 - Mean reward: 183.0\n",
      "Episode 11/100 - Training complete\n",
      "Episode 11/100 - Mean reward: 183.0\n",
      "Episode 12/100 - Training complete\n",
      "Episode 12/100 - Mean reward: 183.0\n",
      "Episode 13/100 - Training complete\n",
      "Episode 13/100 - Mean reward: 183.0\n",
      "Episode 14/100 - Training complete\n",
      "Episode 14/100 - Mean reward: 183.0\n",
      "Episode 15/100 - Training complete\n",
      "Episode 15/100 - Mean reward: 183.0\n",
      "Episode 16/100 - Training complete\n",
      "Episode 16/100 - Mean reward: 183.0\n",
      "Episode 17/100 - Training complete\n",
      "Episode 17/100 - Mean reward: 183.0\n",
      "Episode 18/100 - Training complete\n",
      "Episode 18/100 - Mean reward: 183.0\n",
      "Episode 19/100 - Training complete\n",
      "Episode 19/100 - Mean reward: 183.0\n",
      "Episode 20/100 - Training complete\n",
      "Episode 20/100 - Mean reward: 183.0\n",
      "Episode 21/100 - Training complete\n",
      "Episode 21/100 - Mean reward: 183.0\n",
      "Episode 22/100 - Training complete\n",
      "Episode 22/100 - Mean reward: 183.0\n",
      "Episode 23/100 - Training complete\n",
      "Episode 23/100 - Mean reward: 183.0\n",
      "Episode 24/100 - Training complete\n",
      "Episode 24/100 - Mean reward: 183.0\n",
      "Episode 25/100 - Training complete\n",
      "Episode 25/100 - Mean reward: 183.0\n",
      "Episode 26/100 - Training complete\n",
      "Episode 26/100 - Mean reward: 183.0\n",
      "Episode 27/100 - Training complete\n",
      "Episode 27/100 - Mean reward: 183.0\n",
      "Episode 28/100 - Training complete\n",
      "Episode 28/100 - Mean reward: 183.0\n",
      "Episode 29/100 - Training complete\n",
      "Episode 29/100 - Mean reward: 183.0\n",
      "Episode 30/100 - Training complete\n",
      "Episode 30/100 - Mean reward: 183.0\n",
      "Episode 31/100 - Training complete\n",
      "Episode 31/100 - Mean reward: 183.0\n",
      "Episode 32/100 - Training complete\n",
      "Episode 32/100 - Mean reward: 183.0\n",
      "Episode 33/100 - Training complete\n",
      "Episode 33/100 - Mean reward: 183.0\n",
      "Episode 34/100 - Training complete\n",
      "Episode 34/100 - Mean reward: 183.0\n",
      "Episode 35/100 - Training complete\n",
      "Episode 35/100 - Mean reward: 183.0\n",
      "Episode 36/100 - Training complete\n",
      "Episode 36/100 - Mean reward: 183.0\n",
      "Episode 37/100 - Training complete\n",
      "Episode 37/100 - Mean reward: 183.0\n",
      "Episode 38/100 - Training complete\n",
      "Episode 38/100 - Mean reward: 183.0\n",
      "Episode 39/100 - Training complete\n",
      "Episode 39/100 - Mean reward: 183.0\n",
      "Episode 40/100 - Training complete\n",
      "Episode 40/100 - Mean reward: 183.0\n",
      "Episode 41/100 - Training complete\n",
      "Episode 41/100 - Mean reward: 183.0\n",
      "Episode 42/100 - Training complete\n",
      "Episode 42/100 - Mean reward: 183.0\n",
      "Episode 43/100 - Training complete\n",
      "Episode 43/100 - Mean reward: 183.0\n",
      "Episode 44/100 - Training complete\n",
      "Episode 44/100 - Mean reward: 183.0\n",
      "Episode 45/100 - Training complete\n",
      "Episode 45/100 - Mean reward: 183.0\n",
      "Episode 46/100 - Training complete\n",
      "Episode 46/100 - Mean reward: 183.0\n",
      "Episode 47/100 - Training complete\n",
      "Episode 47/100 - Mean reward: 183.0\n",
      "Episode 48/100 - Training complete\n",
      "Episode 48/100 - Mean reward: 183.0\n",
      "Episode 49/100 - Training complete\n",
      "Episode 49/100 - Mean reward: 183.0\n",
      "Episode 50/100 - Training complete\n",
      "Episode 50/100 - Mean reward: 183.0\n",
      "Episode 51/100 - Training complete\n",
      "Episode 51/100 - Mean reward: 183.0\n",
      "Episode 52/100 - Training complete\n",
      "Episode 52/100 - Mean reward: 183.0\n",
      "Episode 53/100 - Training complete\n",
      "Episode 53/100 - Mean reward: 183.0\n",
      "Episode 54/100 - Training complete\n",
      "Episode 54/100 - Mean reward: 183.0\n",
      "Episode 55/100 - Training complete\n",
      "Episode 55/100 - Mean reward: 183.0\n",
      "Episode 56/100 - Training complete\n",
      "Episode 56/100 - Mean reward: 183.0\n",
      "Episode 57/100 - Training complete\n",
      "Episode 57/100 - Mean reward: 183.0\n",
      "Episode 58/100 - Training complete\n",
      "Episode 58/100 - Mean reward: 183.0\n",
      "Episode 59/100 - Training complete\n",
      "Episode 59/100 - Mean reward: 183.0\n",
      "Episode 60/100 - Training complete\n",
      "Episode 60/100 - Mean reward: 183.0\n",
      "Episode 61/100 - Training complete\n",
      "Episode 61/100 - Mean reward: 183.0\n",
      "Episode 62/100 - Training complete\n",
      "Episode 62/100 - Mean reward: 183.0\n",
      "Episode 63/100 - Training complete\n",
      "Episode 63/100 - Mean reward: 183.0\n",
      "Episode 64/100 - Training complete\n",
      "Episode 64/100 - Mean reward: 183.0\n",
      "Episode 65/100 - Training complete\n",
      "Episode 65/100 - Mean reward: 183.0\n",
      "Episode 66/100 - Training complete\n",
      "Episode 66/100 - Mean reward: 183.0\n",
      "Episode 67/100 - Training complete\n",
      "Episode 67/100 - Mean reward: 183.0\n",
      "Episode 68/100 - Training complete\n",
      "Episode 68/100 - Mean reward: 183.0\n",
      "Episode 69/100 - Training complete\n",
      "Episode 69/100 - Mean reward: 183.0\n",
      "Episode 70/100 - Training complete\n",
      "Episode 70/100 - Mean reward: 183.0\n",
      "Episode 71/100 - Training complete\n",
      "Episode 71/100 - Mean reward: 183.0\n",
      "Episode 72/100 - Training complete\n",
      "Episode 72/100 - Mean reward: 183.0\n",
      "Episode 73/100 - Training complete\n",
      "Episode 73/100 - Mean reward: 183.0\n",
      "Episode 74/100 - Training complete\n",
      "Episode 74/100 - Mean reward: 183.0\n",
      "Episode 75/100 - Training complete\n",
      "Episode 75/100 - Mean reward: 183.0\n",
      "Episode 76/100 - Training complete\n",
      "Episode 76/100 - Mean reward: 183.0\n",
      "Episode 77/100 - Training complete\n",
      "Episode 77/100 - Mean reward: 183.0\n",
      "Episode 78/100 - Training complete\n",
      "Episode 78/100 - Mean reward: 183.0\n",
      "Episode 79/100 - Training complete\n",
      "Episode 79/100 - Mean reward: 183.0\n",
      "Episode 80/100 - Training complete\n",
      "Episode 80/100 - Mean reward: 183.0\n",
      "Episode 81/100 - Training complete\n",
      "Episode 81/100 - Mean reward: 183.0\n",
      "Episode 82/100 - Training complete\n",
      "Episode 82/100 - Mean reward: 183.0\n",
      "Episode 83/100 - Training complete\n",
      "Episode 83/100 - Mean reward: 183.0\n",
      "Episode 84/100 - Training complete\n",
      "Episode 84/100 - Mean reward: 183.0\n",
      "Episode 85/100 - Training complete\n",
      "Episode 85/100 - Mean reward: 183.0\n",
      "Episode 86/100 - Training complete\n",
      "Episode 86/100 - Mean reward: 183.0\n",
      "Episode 87/100 - Training complete\n",
      "Episode 87/100 - Mean reward: 183.0\n",
      "Episode 88/100 - Training complete\n",
      "Episode 88/100 - Mean reward: 183.0\n",
      "Episode 89/100 - Training complete\n",
      "Episode 89/100 - Mean reward: 183.0\n",
      "Episode 90/100 - Training complete\n",
      "Episode 90/100 - Mean reward: 183.0\n",
      "Episode 91/100 - Training complete\n",
      "Episode 91/100 - Mean reward: 183.0\n",
      "Episode 92/100 - Training complete\n",
      "Episode 92/100 - Mean reward: 183.0\n",
      "Episode 93/100 - Training complete\n",
      "Episode 93/100 - Mean reward: 183.0\n",
      "Episode 94/100 - Training complete\n",
      "Episode 94/100 - Mean reward: 183.0\n",
      "Episode 95/100 - Training complete\n",
      "Episode 95/100 - Mean reward: 183.0\n",
      "Episode 96/100 - Training complete\n",
      "Episode 96/100 - Mean reward: 183.0\n",
      "Episode 97/100 - Training complete\n",
      "Episode 97/100 - Mean reward: 183.0\n",
      "Episode 98/100 - Training complete\n",
      "Episode 98/100 - Mean reward: 183.0\n",
      "Episode 99/100 - Training complete\n",
      "Episode 99/100 - Mean reward: 183.0\n",
      "Episode 100/100 - Training complete\n",
      "Episode 100/100 - Mean reward: 183.0\n"
     ]
    }
   ],
   "source": [
    "# Train the agent\n",
    "total_epochs = 100\n",
    "reward_history = []\n",
    "for epoch_no in range(total_epochs):\n",
    "    env.reset()\n",
    "    agent.train(total_timesteps=1000)\n",
    "    print(f\"Episode {epoch_no + 1}/{total_epochs} - Training complete\")\n",
    "    mean_reward, _ = agent.evaluate(n_episodes=5)\n",
    "    reward_history.append(mean_reward)\n",
    "    print(f\"Episode {epoch_no + 1}/{total_epochs} - Mean reward: {mean_reward}\")"
   ]
  },
  {
   "cell_type": "code",
   "execution_count": 3,
   "metadata": {},
   "outputs": [
    {
     "name": "stdout",
     "output_type": "stream",
     "text": [
      "Mean Reward after training: 183.0\n"
     ]
    },
    {
     "data": {
      "image/png": "[encoded data removed]",
      "text/plain": [
       "<Figure size 640x480 with 1 Axes>"
      ]
     },
     "metadata": {},
     "output_type": "display_data"
    }
   ],
   "source": [
    "# Evaluate the agent\n",
    "mean_reward, rewards = agent.evaluate(n_episodes=10)\n",
    "print(f\"Mean Reward after training: {mean_reward}\")\n",
    "\n",
    "# Plot reward history\n",
    "plt.plot(reward_history)\n",
    "plt.xlabel(\"Epochs\")\n",
    "plt.ylabel(\"Mean Reward\")\n",
    "plt.title(\"Reward Progress Over Training\")\n",
    "plt.show()"
   ]
  },
  {
   "cell_type": "code",
   "execution_count": 33,
   "metadata": {},
   "outputs": [
    {
     "data": {
      "text/plain": [
       "10"
      ]
     },
     "execution_count": 33,
     "metadata": {},
     "output_type": "execute_result"
    }
   ],
   "source": [
    "len([r for r in reward_history if r < 0])"
   ]
  },
  {
   "cell_type": "code",
   "execution_count": 34,
   "metadata": {},
   "outputs": [
    {
     "name": "stdout",
     "output_type": "stream",
     "text": [
      "Results saved to the 'results/qlearner-static/20241223_183946' folder.\n"
     ]
    }
   ],
   "source": [
    "import os\n",
    "import pickle\n",
    "from datetime import datetime\n",
    "\n",
    "# Get current timestamp\n",
    "timestamp = datetime.now().strftime('%Y%m%d_%H%M%S')\n",
    "\n",
    "# Create results directory with timestamp subfolder if it doesn't exist\n",
    "results_dir = os.path.join('results', 'qlearner-static', timestamp)\n",
    "os.makedirs(results_dir, exist_ok=True)\n",
    "\n",
    "# Save reward history\n",
    "with open(os.path.join(results_dir, 'reward_history.pkl'), 'wb') as f:\n",
    "    pickle.dump(reward_history, f)\n",
    "\n",
    "# Save mean reward\n",
    "with open(os.path.join(results_dir, 'mean_reward.txt'), 'w') as f:\n",
    "    f.write(str(mean_reward))\n",
    "\n",
    "# Save rewards\n",
    "with open(os.path.join(results_dir, 'rewards.pkl'), 'wb') as f:\n",
    "    pickle.dump(rewards, f)\n",
    "\n",
    "print(f\"Results saved to the '{results_dir}' folder.\")"
   ]
  },
  {
   "cell_type": "code",
   "execution_count": null,
   "metadata": {},
   "outputs": [],
   "source": []
  }
 ],
 "metadata": {
  "kernelspec": {
   "display_name": ".venv",
   "language": "python",
   "name": "python3"
  },
  "language_info": {
   "codemirror_mode": {
    "name": "ipython",
    "version": 3
   },
   "file_extension": ".py",
   "mimetype": "text/x-python",
   "name": "python",
   "nbconvert_exporter": "python",
   "pygments_lexer": "ipython3",
   "version": "3.12.3"
  }
 },
 "nbformat": 4,
 "nbformat_minor": 2
}
